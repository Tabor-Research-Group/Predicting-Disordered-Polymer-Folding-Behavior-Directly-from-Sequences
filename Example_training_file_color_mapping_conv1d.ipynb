{
 "cells": [
  {
   "cell_type": "markdown",
   "id": "f08f083a",
   "metadata": {},
   "source": [
    "# This is an example file to show how to train the model using the Rg.npy dataset.\n"
   ]
  },
  {
   "cell_type": "markdown",
   "id": "176139a4",
   "metadata": {},
   "source": [
    "### Import all required packages"
   ]
  },
  {
   "cell_type": "code",
   "execution_count": null,
   "id": "19a82576",
   "metadata": {},
   "outputs": [],
   "source": [
    "# Import required packages\n",
    "import numpy as np\n",
    "import tensorflow as tf\n",
    "import random\n",
    "from numpy import sqrt\n",
    "from sklearn.preprocessing import MinMaxScaler\n",
    "from collections import Counter\n",
    "from tensorflow.keras.models import Sequential\n",
    "from tensorflow.keras.layers import Dense, Conv1D, Flatten\n",
    "from tensorflow.keras.layers import Dropout\n",
    "from tensorflow.keras.callbacks import EarlyStopping\n",
    "import utils"
   ]
  },
  {
   "cell_type": "markdown",
   "id": "c7e7d5e5",
   "metadata": {},
   "source": [
    "# Load the data and create arrays for Rg and sequences\n",
    "The 3 parameters color mapping features can be obtained using seqs_to_color_mapping function.\n",
    "For the other combinations, it can be obtained by selecting from the output array."
   ]
  },
  {
   "cell_type": "code",
   "execution_count": null,
   "id": "02e1c830",
   "metadata": {},
   "outputs": [],
   "source": [
    "seq = np.load(\"Rg_data.npy\",allow_pickle=True)\n",
    "seq = seq.item()\n",
    "data_seq = []\n",
    "Rg = []\n",
    "nu = []\n",
    "for i in range(len(seq)):\n",
    "    data_seq.append(seq[i][0])\n",
    "    Rg.append(seq[i][1][1][1])\n",
    "    nu.append(seq[i][1][1][3])\n",
    "OE = utils.seqs_to_ordinal_encoding(data_seq)\n",
    "Rg = np.array(Rg).reshape(-1,1)\n",
    "nu = np.array(nu).reshape(-1,1)\n",
    "X = utils.seqs_to_color_mapping(data_seq)\n",
    "nRow, nCol = X.shape[1], X.shape[2]\n",
    "Y = np.hstack((Rg,nu))"
   ]
  },
  {
   "cell_type": "code",
   "execution_count": null,
   "id": "64c79f55",
   "metadata": {},
   "outputs": [],
   "source": [
    "fold = 6\n",
    "seed = 10\n",
    "split = 8\n",
    "c, CL = utils.get_CL_from_OE(OE)\n",
    "Train_indices,Test_indices = utils.LC_split_CL(fold,split,seed,c)"
   ]
  },
  {
   "cell_type": "markdown",
   "id": "2bbe521b",
   "metadata": {},
   "source": [
    "# Learning curve train test split"
   ]
  },
  {
   "cell_type": "markdown",
   "id": "b3b84912",
   "metadata": {},
   "source": [
    "## Define a model using the best parameters and obtain the learning curve"
   ]
  },
  {
   "cell_type": "code",
   "execution_count": null,
   "id": "2744c669",
   "metadata": {},
   "outputs": [],
   "source": [
    "# Split train and test based on indices\n",
    "\n",
    "X_train_unscaled = []\n",
    "X_test_unscaled = []\n",
    "Y_train_unscaled = []\n",
    "Y_test_unscaled = []\n",
    "\n",
    "for i in Train_indices:\n",
    "    X_train_unscaled.append(X[i])\n",
    "    Y_train_unscaled.append(Y[i])\n",
    "for i in Test_indices:\n",
    "    X_test_unscaled.append(X[i])\n",
    "    Y_test_unscaled.append(Y[i])\n",
    "    \n",
    "X_train_unscaled = np.vstack(X_train_unscaled)\n",
    "X_test_unscaled = np.stack(X_test_unscaled)\n",
    "Y_train_unscaled = np.vstack(Y_train_unscaled)\n",
    "Y_test_unscaled = np.stack(Y_test_unscaled)\n",
    "\n",
    "Y_train_Rg = Y_train_unscaled[:,0]\n",
    "Y_test_Rg = Y_test_unscaled[:,0]\n",
    "\n"
   ]
  },
  {
   "cell_type": "code",
   "execution_count": null,
   "id": "d97fe521",
   "metadata": {},
   "outputs": [],
   "source": [
    "arch = [20,10]\n",
    "arch.append(1)\n",
    "\n",
    "size_of_batch= 32\n",
    "num_epochs   = 500\n",
    "\n",
    "use_perms    = bool(False)\n",
    "num_filters   = 8 # number of filters for convolution\n",
    "kernel_size   = 3\n",
    "window_stride = 2\n",
    "\n",
    "\n",
    "nlayer = len(arch)\n",
    "acts      = ['relu' for i in range(nlayer)]\n",
    "acts[-1]  = None\n",
    "DR        = [0.2    for i in range(nlayer)]\n",
    "learning_rate = 0.001\n",
    "\n",
    "nesterovFlag  = False\n",
    "the_objective = 'mean_squared_error'\n",
    "\n",
    "the_optimizer = tf.keras.optimizers.Nadam(lr=learning_rate,beta_1=0.9,beta_2=0.999,epsilon=None,schedule_decay=0.004)\n",
    "verbosity     = 2\n",
    "tf.random.set_seed(10)\n",
    "\n",
    "model = Sequential()\n",
    "\n",
    "model.add(Conv1D(num_filters,kernel_size,strides=window_stride,padding='same',data_format=\"channels_last\",\n",
    "  input_shape=(nRow,nCol), activation=\"relu\",kernel_initializer='lecun_normal'))\n",
    "\n",
    "model.add(Flatten(data_format=\"channels_last\"))\n",
    "#----CREATE HIDDEN LAYERS----\n",
    "for i in range(1,nlayer-1):\n",
    "    model.add(Dense(arch[i],activation=acts[i],\n",
    "    kernel_initializer=\"lecun_normal\"))\n",
    "    model.add(Dropout(DR[i]))\n",
    "\n",
    "#----OUTPUTS----\n",
    "model.add(Dense(arch[-1],activation=None))\n",
    "model.summary()\n",
    "model.compile(optimizer=the_optimizer,loss=the_objective,metrics=['mse'])\n",
    "\n",
    "\n",
    "# Set up callbacks\n",
    "myCallbacks = [EarlyStopping(monitor='val_loss',patience=50,restore_best_weights=True)]\n",
    "\n",
    "## Actual fitting\n",
    "history = model.fit(X_train_unscaled,Y_train_Rg,batch_size=size_of_batch,\n",
    "      epochs=num_epochs,callbacks=myCallbacks,\n",
    "      verbose=verbosity,shuffle=True,validation_split=0.25)"
   ]
  },
  {
   "cell_type": "code",
   "execution_count": null,
   "id": "6cd1d5c3",
   "metadata": {},
   "outputs": [],
   "source": [
    "Y_pred = model.predict(X_test_unscaled)\n",
    "Y_pred = np.squeeze(Y_pred)\n",
    "print(utils.coeff_determination(Y_test_Rg,Y_pred))\n",
    "print(utils.percent_error(Y_test_Rg,Y_pred))\n",
    "print(utils.MAE(Y_test_Rg,Y_pred))\n",
    "print(utils.MSE(Y_test_Rg,Y_pred))\n",
    "print(utils.RMSE(Y_test_Rg,Y_pred))"
   ]
  },
  {
   "cell_type": "code",
   "execution_count": null,
   "id": "6a56bab9",
   "metadata": {},
   "outputs": [],
   "source": []
  }
 ],
 "metadata": {
  "kernelspec": {
   "display_name": "Python 3",
   "language": "python",
   "name": "python3"
  },
  "language_info": {
   "codemirror_mode": {
    "name": "ipython",
    "version": 3
   },
   "file_extension": ".py",
   "mimetype": "text/x-python",
   "name": "python",
   "nbconvert_exporter": "python",
   "pygments_lexer": "ipython3",
   "version": "3.6.13"
  }
 },
 "nbformat": 4,
 "nbformat_minor": 5
}
